{
 "cells": [
  {
   "cell_type": "code",
   "execution_count": 1,
   "metadata": {},
   "outputs": [],
   "source": [
    "import pandas as pd\n",
    "import gensim.downloader as api\n",
    "from gensim.models import KeyedVectors\n",
    "from gensim.models import KeyedVectors, Word2Vec, phrases\n",
    "from gensim.parsing import preprocessing\n",
    "from gensim.parsing.preprocessing import strip_tags, strip_punctuation,strip_numeric,remove_stopwords\n",
    "import gensim\n",
    "import gensim.corpora as corpora\n",
    "from gensim.models import LdaModel\n",
    "from os import walk\n",
    "from os import listdir\n",
    "from os.path import isfile, join\n",
    "\n",
    "from pprint import pprint\n",
    "\n",
    "import pickle\n",
    "\n",
    "from matplotlib import pyplot as plt\n",
    "\n",
    "import numpy as np\n",
    "import seaborn as sns\n",
    "import matplotlib.colors as mcolors\n",
    "import re"
   ]
  },
  {
   "cell_type": "code",
   "execution_count": 2,
   "metadata": {},
   "outputs": [],
   "source": [
    "#  Clean data\n",
    "def text_cleaning(data, label_data):\n",
    "    new_sentences = []\n",
    "    filters = [lambda x: x.lower(), strip_tags, strip_punctuation,strip_numeric,remove_stopwords]\n",
    "    excluded = ['breast', 'cancer', 'survivorship', 'born', 'alive', 'live', 'die', 'died', 'haven', 'have',\n",
    "                 'area','state' ]\n",
    "    orig_data = []\n",
    "    for i in range(data.shape[0]):\n",
    "        label = label_data.iloc[i]\n",
    "        if int(label) ==1:\n",
    "            txt = data.iloc[i]\n",
    "            orig_data.append(txt)\n",
    "            txt = txt.lower()\n",
    "            txt = re.sub(\"(#.*?)[\\s]\",\" \",txt) # remove all # from tweets\n",
    "            txt = re.sub(\"breastcancer\",\" \",txt)\n",
    "\n",
    "            c_words = []\n",
    "            words = preprocessing.preprocess_string(txt, filters)\n",
    "            for w in words:\n",
    "                if len(w)>3 and w not in excluded:\n",
    "                    c_words.append(w)\n",
    "\n",
    "            new_sentences.append(c_words)\n",
    "            \n",
    "    \n",
    "    return np.asarray(new_sentences), np.asarray(orig_data)"
   ]
  },
  {
   "cell_type": "code",
   "execution_count": 3,
   "metadata": {},
   "outputs": [
    {
     "data": {
      "text/plain": [
       "\"When people who don't know me try to educate me on what a breast cancer patient goes through...\""
      ]
     },
     "execution_count": 3,
     "metadata": {},
     "output_type": "execute_result"
    }
   ],
   "source": [
    "# original data\n",
    "data = pd.read_csv(\"breast_cancer.csv\")['Text']\n",
    "label = pd.read_csv(\"breast_cancer.csv\")['Class']\n",
    "sentences_bcancer,original_bcancer = text_cleaning(data,label)\n",
    "original_bcancer[0]"
   ]
  },
  {
   "cell_type": "code",
   "execution_count": 4,
   "metadata": {},
   "outputs": [],
   "source": [
    "# create best Bigrams of tweets(calculated based on how often words come together in all tweets)\n",
    "bigram = gensim.models.Phrases(sentences_bcancer) \n",
    "bigram_mod = gensim.models.phrases.Phraser(bigram)\n",
    "sentences_bcancer = [bigram_mod[doc] for doc in sentences_bcancer]"
   ]
  },
  {
   "cell_type": "code",
   "execution_count": 5,
   "metadata": {},
   "outputs": [
    {
     "data": {
      "text/plain": [
       "['chemotherapy',\n",
       " 'chemo',\n",
       " 'radiotherapy',\n",
       " 'evista',\n",
       " 'raloxifene',\n",
       " 'hydrochloride',\n",
       " 'raloxifene_hydrochloride',\n",
       " 'tamoxifen',\n",
       " 'citrate',\n",
       " 'tamoxifen_citrate']"
      ]
     },
     "execution_count": 5,
     "metadata": {},
     "output_type": "execute_result"
    }
   ],
   "source": [
    "# original lexicon\n",
    "data_lexicon = pd.read_csv(\"brest_cancer_lexicon.csv\")['Drug'].to_numpy()\n",
    "data_lexicox_clean = [\"_\".join(data.lower().split()) for data in data_lexicon]\n",
    "data_lexicox_clean[:10]"
   ]
  },
  {
   "cell_type": "code",
   "execution_count": 6,
   "metadata": {},
   "outputs": [],
   "source": [
    "# Load from drug-related w2vec\n",
    "path_tune = \"/Users/thiago/Github/Data/BioW2Vec/DSM-language-model-1B-LARGE/trig-vectors-phrase.bin\"\n",
    "word_vectors = KeyedVectors.load_word2vec_format(path_tune, binary=True, encoding='utf8', unicode_errors='ignore')"
   ]
  },
  {
   "cell_type": "code",
   "execution_count": 7,
   "metadata": {},
   "outputs": [],
   "source": [
    "# expand original lexion, if not done yet\n",
    "expand = False\n",
    "expanded = []\n",
    "if expand:\n",
    "    for word in data_lexicox_clean:\n",
    "        if word in word_vectors:\n",
    "            expanded.append(word)\n",
    "            similar = [x[0] for x in word_vectors.most_similar(word,topn=5)]\n",
    "            expanded.extend(similar)\n",
    "    \n",
    "    # save to file\n",
    "    out = \"brest_cancer_lexicon_expanded.csv\"\n",
    "    dict = {'Drug': expanded}   \n",
    "       \n",
    "    df = pd.DataFrame(dict) \n",
    "    # saving the dataframe  \n",
    "    df.to_csv(out)  \n",
    "    print(expanded[0:10])\n",
    "    "
   ]
  },
  {
   "cell_type": "code",
   "execution_count": 8,
   "metadata": {},
   "outputs": [],
   "source": [
    "# load expanded lexicon\n",
    "data_lexicon_expanded = np.unique(pd.read_csv(\"brest_cancer_lexicon_expanded.csv\")['Drug'].to_numpy())"
   ]
  },
  {
   "cell_type": "code",
   "execution_count": 9,
   "metadata": {},
   "outputs": [],
   "source": [
    "# based on a giving tweet word from user, database of lexicon and ratio\n",
    "# return a list of all words from user which is misspelled and are breast cancer expression\n",
    "import Levenshtein\n",
    "def get_mispelling( w_tweet, database, ratio):\n",
    "    out = []\n",
    "    for treatment in database:\n",
    "        lev_ratio = Levenshtein.ratio(treatment,w_tweet)\n",
    "        if lev_ratio > ratio:\n",
    "            out.append(treatment)\n",
    "    return out"
   ]
  },
  {
   "cell_type": "code",
   "execution_count": 10,
   "metadata": {},
   "outputs": [
    {
     "name": "stdout",
     "output_type": "stream",
     "text": [
      "\n",
      "\n",
      " b'@abcdiagnosis @angemknox @uk_oncologist @nhsuk @metupukorg @gm_cancer @gmcancerui @sbcsg_fb @2ndary1st @secondhopeorg @make2ndscount @abcglobalall @breastcancernow @thechristienhs i am doing good. ibrance, letrozol. last two pet scans nead. both legs, both hips, sternum, skull, scapula and ribs. small pleural effusion.  nodes in mediastinum. pain but ok. still working but from home. just hoping to stay nead for as long as possible. any advice accepted.'     letrozol      letrazol\n",
      "\n",
      "\n",
      " b'@abcdiagnosis @angemknox @uk_oncologist @nhsuk @metupukorg @gm_cancer @gmcancerui @sbcsg_fb @2ndary1st @secondhopeorg @make2ndscount @abcglobalall @breastcancernow @thechristienhs i am doing good. ibrance, letrozol. last two pet scans nead. both legs, both hips, sternum, skull, scapula and ribs. small pleural effusion.  nodes in mediastinum. pain but ok. still working but from home. just hoping to stay nead for as long as possible. any advice accepted.'     letrozol      letrozole\n",
      "\n",
      "\n",
      " My #breastcancer wasn't caused by #solarpanels. Maybe we should ban  bbqs - they have carcinogenic properties.      properties      preoperative\n",
      "\n",
      "\n",
      " My oncologist just switched my meds to Letrizole (I believe it is spelled this way?) so I’m feeling good about that!! This is the one most of my friends are on who have gone through #breastcancer      letrizole      letrazol\n",
      "\n",
      "\n",
      " My oncologist just switched my meds to Letrizole (I believe it is spelled this way?) so I’m feeling good about that!! This is the one most of my friends are on who have gone through #breastcancer      letrizole      letrozole\n",
      "\n",
      "\n",
      " \"21 years of annual post breast cancer screening. About $400 each time. Not to mention chemo , 10 years of tamoxifen and letrizole and radiotherapy. Treated myself a reconstruction ( my treat) but lots of $ over the years. Thanks @billshortenmp\"     letrizole      letrazol\n",
      "\n",
      "\n",
      " \"21 years of annual post breast cancer screening. About $400 each time. Not to mention chemo , 10 years of tamoxifen and letrizole and radiotherapy. Treated myself a reconstruction ( my treat) but lots of $ over the years. Thanks @billshortenmp\"     letrizole      letrozole\n",
      "\n",
      "\n",
      " About to switch my daily tablet from Tamoxifen to Exemestane feeling nervous about the new side effects and increased joint pain. I’ll be on these for 10 years. #breastcancer @bccww @YBCN_UKpic.twitter.com/De50xJjwnQ     exemestane      exemestane \n",
      "\n",
      "\n",
      " b'@nanokkie what chemo am i on? i'm in a clinical trial specifically for triple negative metastatic breast cancer. taxol, ipatasertib chemo pills &amp; tecentriq immunotherapy infusion.  it's why i asked you what type of cancer you have. there are clinical trials for specific types. ask ur onc'     immunotherapy      monotherapy\n",
      "\n",
      "\n",
      " b'@templesmarkets i did the same in 2002 plus hydrogen peroxide ivs. i wanted to do this instead of chemo, but my doctor told me i had to do the chemo as well to make sure the breast cancer cells were killed due to its ability to metastasize elsewhere, &amp; ivs would be therapeutic &amp; detox the chemo.'     therapeutic      chemotherapeutic\n",
      "\n",
      "\n",
      " b'yesterday,  i had my breast cancer surgery.  i was supposed to have lumpectomy with intra-operative radiation.  then they found cancer in my lymph nodes.  my world is turmoil.\\nthis is a bad week.'     operative      preoperative\n",
      "\n",
      "\n",
      " b'@glamandgore still having to pay off medical bills from breast cancer treatment that went on for the last 2 years. fuck cancer, my dudes.\\nvenmo: @jessica-trojan'     trojan      trovan\n",
      "\n",
      "\n",
      " Unfortunately I’m in a clinical trial Jill. The #chemo pill/Immunotherapy/Taxol are what trial uses. These drugs do their part to kill the #cancer in their ways & 3 together gives someone w/triple negative metastatic breast cancer possibly best chance. This is my only option.      immunotherapy      monotherapy\n",
      "\n",
      "\n",
      " b\"@thesaltiestcow on chemotherapy/more recently immunotherapy for 3 years now for stage4 metastatic breast cancer on my own but am still ticking over. most important: try to do things that you love most (for me it is my favourite foods)\\xf0\\x9f\\xa7\\x81 &amp; ring @macmillancancer whenever friends aren't enough.. \\xf0\\x9f\\x92\\x96\"     immunotherapy      monotherapy\n"
     ]
    }
   ],
   "source": [
    "# for each tweet, let's find if tweet has a treatment\n",
    "#original_bcancer\n",
    "new_database = []\n",
    "treatment = []\n",
    "for index,tweet in enumerate(sentences_bcancer):\n",
    "    for word in tweet:\n",
    "        if word in data_lexicon_expanded:\n",
    "            new_database.append(original_bcancer[index])\n",
    "            treatment.append(word)\n",
    "            print(\"\\n\\n\",original_bcancer[index], \"   \",word)\n",
    "        else:\n",
    "            mispelled = get_mispelling(word,data_lexicon_expanded, 0.8)\n",
    "            if len(mispelled) >0:\n",
    "                for term in mispelled: # add tweet multiple times if have more than 1 treatment\n",
    "                    new_database.append(original_bcancer[index])\n",
    "                    treatment.append(term)\n",
    "                    \n"
   ]
  },
  {
   "cell_type": "code",
   "execution_count": 11,
   "metadata": {},
   "outputs": [],
   "source": [
    "# Clean a little, to group more treatments - less sparse\n",
    "treatment_clean = []\n",
    "for t in treatment:\n",
    "    if \"chemo\" in t or \"radio\" in t:\n",
    "        treatment_clean.append(\"chemotherapy\")\n",
    "    elif \"letrazol\" in t:\n",
    "        treatment_clean.append(\"letrazol\")\n",
    "    else:\n",
    "        treatment_clean.append(t)"
   ]
  },
  {
   "cell_type": "code",
   "execution_count": 12,
   "metadata": {},
   "outputs": [],
   "source": [
    "# save new dataset\n",
    "out = \"brest_cancer_by_treatments.csv\"\n",
    "dict = {'Tweet': new_database, \"Treatment\":treatment_clean }   \n",
    "\n",
    "df = pd.DataFrame(dict) \n",
    "# saving the dataframe  \n",
    "df.to_csv(out)  \n"
   ]
  },
  {
   "cell_type": "code",
   "execution_count": 13,
   "metadata": {},
   "outputs": [],
   "source": [
    "# plot distributions\n",
    "def plot(scores, xpos='center', y_labels ='Total of apperances amoung tweets', \n",
    "    title = 'Distribution Tweets per Treatments',\n",
    "    x_labels = ('Treaments'), label=\"Treatment\"):\n",
    "\n",
    "  ind = np.arange(len(scores))  # the x locations for the groups\n",
    "  width = 0.4  # the width of the bars\n",
    "  fig, ax = plt.subplots()\n",
    "  rects = ax.bar(ind - width/2, scores, width, label=label)\n",
    "\n",
    "  # Add some text for labels, title and custom x-axis tick labels, etc.\n",
    "  ax.set_ylabel(y_labels)\n",
    "  ax.set_title(title)\n",
    "  ax.set_xticks(ind)\n",
    "  ax.set_xticklabels(x_labels)\n",
    "  #ax.set_xtickrotation(rotation=90)\n",
    "  plt.xticks(rotation=90)\n",
    "  ax.legend()\n",
    "\n",
    "  ha = {'center': 'center', 'right': 'left', 'left': 'right'}\n",
    "  offset = {'center': 0, 'right': 1, 'left': -1}\n",
    "\n",
    "  for rect in rects:\n",
    "    height = rect.get_height() \n",
    "    ax.annotate('{}'.format(height),\n",
    "                xy=(rect.get_x() + rect.get_width() / 2, height),\n",
    "                xytext=(offset[xpos]*0.5, 0.5),  # use 3 points offset\n",
    "                textcoords=\"offset points\",  # in both directions\n",
    "                ha=ha[xpos], va='bottom')\n",
    "\n",
    "  fig.tight_layout()\n",
    "  plt.show()"
   ]
  },
  {
   "cell_type": "code",
   "execution_count": 14,
   "metadata": {},
   "outputs": [],
   "source": [
    "treatment_clean = np.array(treatment_clean)\n",
    "unique, counts = np.unique(treatment_clean, return_counts=True)\n",
    "frequencies = np.asarray(( counts,unique,)).T"
   ]
  },
  {
   "cell_type": "code",
   "execution_count": 15,
   "metadata": {},
   "outputs": [],
   "source": [
    "dist = []\n",
    "for i in range(counts.shape[0]):\n",
    "    dist.append((counts[i], unique[i]))\n",
    "dist.sort(reverse=True)\n",
    "\n",
    "dist_score = [x[0] for x in dist]\n",
    "dist_label = [x[1] for x in dist]"
   ]
  },
  {
   "cell_type": "code",
   "execution_count": 16,
   "metadata": {
    "scrolled": true
   },
   "outputs": [
    {
     "data": {
      "image/png": "[encoded data removed]",
      "text/plain": [
       "<Figure size 432x288 with 1 Axes>"
      ]
     },
     "metadata": {
      "needs_background": "light"
     },
     "output_type": "display_data"
    }
   ],
   "source": [
    "plot(dist_score[:20],x_labels=dist_label[:20])"
   ]
  },
  {
   "cell_type": "code",
   "execution_count": null,
   "metadata": {},
   "outputs": [],
   "source": []
  }
 ],
 "metadata": {
  "kernelspec": {
   "display_name": "Python 3",
   "language": "python",
   "name": "python3"
  },
  "language_info": {
   "codemirror_mode": {
    "name": "ipython",
    "version": 3
   },
   "file_extension": ".py",
   "mimetype": "text/x-python",
   "name": "python",
   "nbconvert_exporter": "python",
   "pygments_lexer": "ipython3",
   "version": "3.7.6"
  }
 },
 "nbformat": 4,
 "nbformat_minor": 4
}
